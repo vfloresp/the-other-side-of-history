{
 "cells": [
  {
   "cell_type": "code",
   "execution_count": 1,
   "metadata": {},
   "outputs": [
    {
     "name": "stdout",
     "output_type": "stream",
     "text": [
      "3\n"
     ]
    }
   ],
   "source": [
    "a = 1\n",
    "b= 2\n",
    "print(str(a+b))"
   ]
  }
 ],
 "metadata": {
  "interpreter": {
   "hash": "51351f07706cbc8fca8a2c6e99da4144e4468946eeff73e62e1040dcf2c6c941"
  },
  "kernelspec": {
   "display_name": "Python 3.9.10 ('the-other-side-of-history-6kBXiimj')",
   "language": "python",
   "name": "python3"
  },
  "language_info": {
   "codemirror_mode": {
    "name": "ipython",
    "version": 3
   },
   "file_extension": ".py",
   "mimetype": "text/x-python",
   "name": "python",
   "nbconvert_exporter": "python",
   "pygments_lexer": "ipython3",
   "version": "3.9.10"
  },
  "orig_nbformat": 4
 },
 "nbformat": 4,
 "nbformat_minor": 2
}
